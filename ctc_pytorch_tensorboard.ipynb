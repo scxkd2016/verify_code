{
 "cells": [
  {
   "cell_type": "markdown",
   "metadata": {},
   "source": [
    "# 导入必要的库"
   ]
  },
  {
   "cell_type": "code",
   "execution_count": 1,
   "metadata": {
    "ExecuteTime": {
     "end_time": "2019-06-30T12:00:55.727033Z",
     "start_time": "2019-06-30T12:00:55.055243Z"
    }
   },
   "outputs": [
    {
     "name": "stdout",
     "output_type": "stream",
     "text": [
      "-0123456789ABCDEFGHIJKLMNOPQRSTUVWXYZ 192 64 4 37\n",
      "Using matplotlib backend: agg\n"
     ]
    }
   ],
   "source": [
    "import torch\n",
    "import torch.nn as nn\n",
    "import torch.nn.functional as F\n",
    "from torch.utils.data import Dataset, DataLoader\n",
    "from torchvision.transforms.functional import to_tensor, to_pil_image\n",
    "\n",
    "from tensorboardX import SummaryWriter\n",
    "import time\n",
    "import matplotlib.pyplot as plt\n",
    "\n",
    "from captcha.image import ImageCaptcha\n",
    "from tqdm import tqdm\n",
    "import random\n",
    "import numpy as np\n",
    "from collections import OrderedDict\n",
    "\n",
    "import string\n",
    "characters = '-' + string.digits + string.ascii_uppercase\n",
    "width, height, n_len, n_classes = 192, 64, 4, len(characters)\n",
    "n_input_length = 12\n",
    "print(characters, width, height, n_len, n_classes)\n",
    "\n",
    "%matplotlib auto"
   ]
  },
  {
   "cell_type": "markdown",
   "metadata": {},
   "source": [
    "# 搭建数据集"
   ]
  },
  {
   "cell_type": "code",
   "execution_count": 2,
   "metadata": {
    "ExecuteTime": {
     "end_time": "2019-06-30T12:00:55.731929Z",
     "start_time": "2019-06-30T12:00:55.728137Z"
    }
   },
   "outputs": [],
   "source": [
    "class CaptchaDataset(Dataset):\n",
    "    def __init__(self, characters, length, width, height, input_length, label_length):\n",
    "        super(CaptchaDataset, self).__init__()\n",
    "        self.characters = characters\n",
    "        self.length = length\n",
    "        self.width = width\n",
    "        self.height = height\n",
    "        self.input_length = input_length\n",
    "        self.label_length = label_length\n",
    "        self.n_class = len(characters)\n",
    "        self.generator = ImageCaptcha(width=width, height=height)\n",
    "\n",
    "    def __len__(self):\n",
    "        return self.length\n",
    "    \n",
    "    def __getitem__(self, index):\n",
    "        random_str = ''.join([random.choice(self.characters[1:]) for j in range(self.label_length)])\n",
    "        image = to_tensor(self.generator.generate_image(random_str))\n",
    "        target = torch.tensor([self.characters.find(x) for x in random_str], dtype=torch.long)\n",
    "        input_length = torch.full(size=(1, ), fill_value=self.input_length, dtype=torch.long)\n",
    "        target_length = torch.full(size=(1, ), fill_value=self.label_length, dtype=torch.long)\n",
    "        return image, target, input_length, target_length"
   ]
  },
  {
   "cell_type": "markdown",
   "metadata": {},
   "source": [
    "# 测试数据集"
   ]
  },
  {
   "cell_type": "code",
   "execution_count": 3,
   "metadata": {
    "ExecuteTime": {
     "end_time": "2019-06-30T12:00:55.759892Z",
     "start_time": "2019-06-30T12:00:55.732840Z"
    }
   },
   "outputs": [
    {
     "name": "stdout",
     "output_type": "stream",
     "text": [
      "WK6E tensor([12]) tensor([4])\n"
     ]
    },
    {
     "data": {
      "image/png": "[encoded data removed]",
      "text/plain": [
       "<PIL.Image.Image image mode=RGB size=192x64 at 0x7FB8A8161128>"
      ]
     },
     "execution_count": 3,
     "metadata": {},
     "output_type": "execute_result"
    }
   ],
   "source": [
    "dataset = CaptchaDataset(characters, 1, width, height, n_input_length, n_len)\n",
    "image, target, input_length, label_length = dataset[0]\n",
    "print(''.join([characters[x] for x in target]), input_length, label_length)\n",
    "to_pil_image(image)"
   ]
  },
  {
   "cell_type": "markdown",
   "metadata": {},
   "source": [
    "# 初始化数据集生成器"
   ]
  },
  {
   "cell_type": "code",
   "execution_count": 4,
   "metadata": {
    "ExecuteTime": {
     "end_time": "2019-06-30T12:00:55.763130Z",
     "start_time": "2019-06-30T12:00:55.761037Z"
    }
   },
   "outputs": [],
   "source": [
    "batch_size = 128\n",
    "train_set = CaptchaDataset(characters, 1000 * batch_size, width, height, n_input_length, n_len)\n",
    "valid_set = CaptchaDataset(characters, 100 * batch_size, width, height, n_input_length, n_len)\n",
    "train_loader = DataLoader(train_set, batch_size=batch_size, num_workers=12)\n",
    "valid_loader = DataLoader(valid_set, batch_size=batch_size, num_workers=12)"
   ]
  },
  {
   "cell_type": "markdown",
   "metadata": {},
   "source": [
    "# 搭建模型"
   ]
  },
  {
   "cell_type": "code",
   "execution_count": 5,
   "metadata": {
    "ExecuteTime": {
     "end_time": "2019-06-30T12:00:55.770307Z",
     "start_time": "2019-06-30T12:00:55.764180Z"
    }
   },
   "outputs": [],
   "source": [
    "class Model(nn.Module):\n",
    "    def __init__(self, n_classes, input_shape=(3, 64, 128)):\n",
    "        super(Model, self).__init__()\n",
    "        self.input_shape = input_shape\n",
    "        channels = [32, 64, 128, 256, 256]\n",
    "        layers = [2, 2, 2, 2, 2]\n",
    "        kernels = [3, 3, 3, 3, 3]\n",
    "        pools = [2, 2, 2, 2, (2, 1)]\n",
    "        modules = OrderedDict()\n",
    "        \n",
    "        def cba(name, in_channels, out_channels, kernel_size):\n",
    "            modules[f'conv{name}'] = nn.Conv2d(in_channels, out_channels, kernel_size,\n",
    "                                               padding=(1, 1) if kernel_size == 3 else 0)\n",
    "            modules[f'bn{name}'] = nn.BatchNorm2d(out_channels)\n",
    "            modules[f'relu{name}'] = nn.ReLU(inplace=True)\n",
    "        \n",
    "        last_channel = 3\n",
    "        for block, (n_channel, n_layer, n_kernel, k_pool) in enumerate(zip(channels, layers, kernels, pools)):\n",
    "            for layer in range(1, n_layer + 1):\n",
    "                cba(f'{block+1}{layer}', last_channel, n_channel, n_kernel)\n",
    "                last_channel = n_channel\n",
    "            modules[f'pool{block + 1}'] = nn.MaxPool2d(k_pool)\n",
    "        modules[f'dropout'] = nn.Dropout(0.25, inplace=True)\n",
    "        \n",
    "        self.cnn = nn.Sequential(modules)\n",
    "        self.lstm = nn.LSTM(input_size=self.infer_features(), hidden_size=128, num_layers=2, bidirectional=True)\n",
    "        self.fc = nn.Linear(in_features=256, out_features=n_classes)\n",
    "    \n",
    "    def infer_features(self):\n",
    "        x = torch.zeros((1,)+self.input_shape)\n",
    "        x = self.cnn(x)\n",
    "        x = x.reshape(x.shape[0], -1, x.shape[-1])\n",
    "        return x.shape[1]\n",
    "\n",
    "    def forward(self, x):\n",
    "        x = self.cnn(x)\n",
    "        x = x.reshape(x.shape[0], -1, x.shape[-1])\n",
    "        x = x.permute(2, 0, 1)\n",
    "        x, _ = self.lstm(x)\n",
    "        x = self.fc(x)\n",
    "        return x"
   ]
  },
  {
   "cell_type": "markdown",
   "metadata": {},
   "source": [
    "## 测试模型输出尺寸"
   ]
  },
  {
   "cell_type": "code",
   "execution_count": 6,
   "metadata": {
    "ExecuteTime": {
     "end_time": "2019-06-30T12:00:56.051892Z",
     "start_time": "2019-06-30T12:00:55.771360Z"
    }
   },
   "outputs": [
    {
     "data": {
      "text/plain": [
       "torch.Size([12, 32, 37])"
      ]
     },
     "execution_count": 6,
     "metadata": {},
     "output_type": "execute_result"
    }
   ],
   "source": [
    "model = Model(n_classes, input_shape=(3, height, width))\n",
    "inputs = torch.zeros((32, 3, height, width))\n",
    "outputs = model(inputs)\n",
    "outputs.shape"
   ]
  },
  {
   "cell_type": "markdown",
   "metadata": {},
   "source": [
    "## 初始化模型"
   ]
  },
  {
   "cell_type": "code",
   "execution_count": 7,
   "metadata": {
    "ExecuteTime": {
     "end_time": "2019-06-30T12:00:56.055787Z",
     "start_time": "2019-06-30T12:00:56.053021Z"
    }
   },
   "outputs": [
    {
     "name": "stdout",
     "output_type": "stream",
     "text": [
      "crnn_20190630_200056\n"
     ]
    }
   ],
   "source": [
    "now = time.strftime(\"%Y%m%d_%H%M%S\", time.localtime())\n",
    "model_name = f'crnn_{now}'\n",
    "print(model_name)\n",
    "writer = SummaryWriter(f'logs/{model_name}')"
   ]
  },
  {
   "cell_type": "code",
   "execution_count": 8,
   "metadata": {
    "ExecuteTime": {
     "end_time": "2019-06-30T12:00:58.557789Z",
     "start_time": "2019-06-30T12:00:56.056855Z"
    }
   },
   "outputs": [
    {
     "data": {
      "text/plain": [
       "Model(\n",
       "  (cnn): Sequential(\n",
       "    (conv11): Conv2d(3, 32, kernel_size=(3, 3), stride=(1, 1), padding=(1, 1))\n",
       "    (bn11): BatchNorm2d(32, eps=1e-05, momentum=0.1, affine=True, track_running_stats=True)\n",
       "    (relu11): ReLU(inplace)\n",
       "    (conv12): Conv2d(32, 32, kernel_size=(3, 3), stride=(1, 1), padding=(1, 1))\n",
       "    (bn12): BatchNorm2d(32, eps=1e-05, momentum=0.1, affine=True, track_running_stats=True)\n",
       "    (relu12): ReLU(inplace)\n",
       "    (pool1): MaxPool2d(kernel_size=2, stride=2, padding=0, dilation=1, ceil_mode=False)\n",
       "    (conv21): Conv2d(32, 64, kernel_size=(3, 3), stride=(1, 1), padding=(1, 1))\n",
       "    (bn21): BatchNorm2d(64, eps=1e-05, momentum=0.1, affine=True, track_running_stats=True)\n",
       "    (relu21): ReLU(inplace)\n",
       "    (conv22): Conv2d(64, 64, kernel_size=(3, 3), stride=(1, 1), padding=(1, 1))\n",
       "    (bn22): BatchNorm2d(64, eps=1e-05, momentum=0.1, affine=True, track_running_stats=True)\n",
       "    (relu22): ReLU(inplace)\n",
       "    (pool2): MaxPool2d(kernel_size=2, stride=2, padding=0, dilation=1, ceil_mode=False)\n",
       "    (conv31): Conv2d(64, 128, kernel_size=(3, 3), stride=(1, 1), padding=(1, 1))\n",
       "    (bn31): BatchNorm2d(128, eps=1e-05, momentum=0.1, affine=True, track_running_stats=True)\n",
       "    (relu31): ReLU(inplace)\n",
       "    (conv32): Conv2d(128, 128, kernel_size=(3, 3), stride=(1, 1), padding=(1, 1))\n",
       "    (bn32): BatchNorm2d(128, eps=1e-05, momentum=0.1, affine=True, track_running_stats=True)\n",
       "    (relu32): ReLU(inplace)\n",
       "    (pool3): MaxPool2d(kernel_size=2, stride=2, padding=0, dilation=1, ceil_mode=False)\n",
       "    (conv41): Conv2d(128, 256, kernel_size=(3, 3), stride=(1, 1), padding=(1, 1))\n",
       "    (bn41): BatchNorm2d(256, eps=1e-05, momentum=0.1, affine=True, track_running_stats=True)\n",
       "    (relu41): ReLU(inplace)\n",
       "    (conv42): Conv2d(256, 256, kernel_size=(3, 3), stride=(1, 1), padding=(1, 1))\n",
       "    (bn42): BatchNorm2d(256, eps=1e-05, momentum=0.1, affine=True, track_running_stats=True)\n",
       "    (relu42): ReLU(inplace)\n",
       "    (pool4): MaxPool2d(kernel_size=2, stride=2, padding=0, dilation=1, ceil_mode=False)\n",
       "    (conv51): Conv2d(256, 256, kernel_size=(3, 3), stride=(1, 1), padding=(1, 1))\n",
       "    (bn51): BatchNorm2d(256, eps=1e-05, momentum=0.1, affine=True, track_running_stats=True)\n",
       "    (relu51): ReLU(inplace)\n",
       "    (conv52): Conv2d(256, 256, kernel_size=(3, 3), stride=(1, 1), padding=(1, 1))\n",
       "    (bn52): BatchNorm2d(256, eps=1e-05, momentum=0.1, affine=True, track_running_stats=True)\n",
       "    (relu52): ReLU(inplace)\n",
       "    (pool5): MaxPool2d(kernel_size=(2, 1), stride=(2, 1), padding=0, dilation=1, ceil_mode=False)\n",
       "    (dropout): Dropout(p=0.25, inplace)\n",
       "  )\n",
       "  (lstm): LSTM(512, 128, num_layers=2, bidirectional=True)\n",
       "  (fc): Linear(in_features=256, out_features=37, bias=True)\n",
       ")"
      ]
     },
     "execution_count": 8,
     "metadata": {},
     "output_type": "execute_result"
    }
   ],
   "source": [
    "model = Model(n_classes, input_shape=(3, height, width))\n",
    "inputs = torch.zeros((1, 3, height, width))\n",
    "writer.add_graph(model, inputs)\n",
    "\n",
    "model = model.cuda()\n",
    "model"
   ]
  },
  {
   "cell_type": "markdown",
   "metadata": {},
   "source": [
    "# 解码函数和准确率计算函数"
   ]
  },
  {
   "cell_type": "code",
   "execution_count": 9,
   "metadata": {
    "ExecuteTime": {
     "end_time": "2019-06-30T12:00:58.568577Z",
     "start_time": "2019-06-30T12:00:58.560442Z"
    }
   },
   "outputs": [],
   "source": [
    "def decode(sequence):\n",
    "    a = ''.join([characters[x] for x in sequence])\n",
    "    s = ''.join([x for j, x in enumerate(a[:-1]) if x != characters[0] and x != a[j+1]])\n",
    "    if len(s) == 0:\n",
    "        return ''\n",
    "    if a[-1] != characters[0] and s[-1] != a[-1]:\n",
    "        s += a[-1]\n",
    "    return s\n",
    "\n",
    "def decode_target(sequence):\n",
    "    return ''.join([characters[x] for x in sequence]).replace(' ', '')\n",
    "\n",
    "def calc_acc(target, output):\n",
    "    output_argmax = output.detach().permute(1, 0, 2).argmax(dim=-1)\n",
    "    target = target.cpu().numpy()\n",
    "    output_argmax = output_argmax.cpu().numpy()\n",
    "    a = np.array([decode_target(true) == decode(pred) for true, pred in zip(target, output_argmax)])\n",
    "    return a.mean()"
   ]
  },
  {
   "cell_type": "markdown",
   "metadata": {},
   "source": [
    "# 训练模型"
   ]
  },
  {
   "cell_type": "code",
   "execution_count": 10,
   "metadata": {
    "ExecuteTime": {
     "end_time": "2019-06-30T12:00:58.582705Z",
     "start_time": "2019-06-30T12:00:58.570023Z"
    }
   },
   "outputs": [],
   "source": [
    "def train(model, optimizer, epoch, dataloader, writer):\n",
    "    model.train()\n",
    "    loss_mean = 0\n",
    "    acc_mean = 0\n",
    "    with tqdm(dataloader) as pbar:\n",
    "        for batch_index, (data, target, input_lengths, target_lengths) in enumerate(pbar):\n",
    "            data, target = data.cuda(), target.cuda()\n",
    "            \n",
    "            optimizer.zero_grad()\n",
    "            output = model(data)\n",
    "            \n",
    "            output_log_softmax = F.log_softmax(output, dim=-1)\n",
    "            loss = F.ctc_loss(output_log_softmax, target, input_lengths, target_lengths)\n",
    "            \n",
    "            loss.backward()\n",
    "            optimizer.step()\n",
    "\n",
    "            loss = loss.item()\n",
    "            acc = calc_acc(target, output)\n",
    "            \n",
    "            iteration = (epoch - 1) * len(dataloader) + batch_index\n",
    "            writer.add_scalar('train/loss', loss, iteration)\n",
    "            writer.add_scalar('train/acc', acc, iteration)\n",
    "            writer.add_scalar('train/error_rate', 1 - acc, iteration)\n",
    "            \n",
    "            if batch_index == 0:\n",
    "                loss_mean = loss\n",
    "                acc_mean = acc\n",
    "            \n",
    "            loss_mean = 0.1 * loss + 0.9 * loss_mean\n",
    "            acc_mean = 0.1 * acc + 0.9 * acc_mean\n",
    "            \n",
    "            pbar.set_description(f'Epoch: {epoch} Loss: {loss_mean:.4f} Acc: {acc_mean:.4f} ')\n",
    "    \n",
    "    # draw badcase\n",
    "    with torch.no_grad():\n",
    "        output_argmax = output.detach().permute(1, 0, 2).argmax(dim=-1)\n",
    "        loss = F.ctc_loss(output_log_softmax, target, input_lengths, target_lengths, reduction='none')\n",
    "        hard_sample = np.argsort(loss.detach().cpu().numpy())[::-1]\n",
    "        data = data.cpu()\n",
    "        target = target.cpu()\n",
    "\n",
    "        nrow = 4\n",
    "        ncol = 4\n",
    "        fig = plt.figure(figsize=(12, 6))\n",
    "        for i, index in enumerate(hard_sample[:nrow*ncol]):\n",
    "            plt.subplot(ncol, nrow, i+1)\n",
    "            plt.axis('off')\n",
    "            plt.imshow(data[index].numpy().transpose(1, 2, 0))\n",
    "            s = f'true: {decode_target(target[index])}\\npred: {decode(output_argmax[index])}'\n",
    "            plt.title(s)\n",
    "\n",
    "        fig.canvas.draw()\n",
    "        image = np.array(fig.canvas.renderer.buffer_rgba())\n",
    "        plt.close()\n",
    "        writer.add_image('train/badcase', to_tensor(image), epoch)\n",
    "    \n",
    "    return loss_mean, acc_mean\n",
    "\n",
    "def valid(model, epoch, dataloader, writer):\n",
    "    model.eval()\n",
    "    with tqdm(dataloader) as pbar, torch.no_grad():\n",
    "        loss_sum = 0\n",
    "        acc_sum = 0\n",
    "        for batch_index, (data, target, input_lengths, target_lengths) in enumerate(pbar):\n",
    "            data, target = data.cuda(), target.cuda()\n",
    "            \n",
    "            output = model(data)\n",
    "            output_log_softmax = F.log_softmax(output, dim=-1)\n",
    "            loss = F.ctc_loss(output_log_softmax, target, input_lengths, target_lengths)\n",
    "            \n",
    "            loss = loss.item()\n",
    "            acc = calc_acc(target, output)\n",
    "            \n",
    "            loss_sum += loss\n",
    "            acc_sum += acc\n",
    "            \n",
    "            loss_mean = loss_sum / (batch_index + 1)\n",
    "            acc_mean = acc_sum / (batch_index + 1)\n",
    "            \n",
    "            pbar.set_description(f'Test : {epoch} Loss: {loss_mean:.4f} Acc: {acc_mean:.4f} ')\n",
    "    return loss_mean, acc_mean"
   ]
  },
  {
   "cell_type": "code",
   "execution_count": 11,
   "metadata": {
    "ExecuteTime": {
     "end_time": "2019-06-30T13:00:15.340917Z",
     "start_time": "2019-06-30T12:00:58.584153Z"
    }
   },
   "outputs": [
    {
     "name": "stderr",
     "output_type": "stream",
     "text": [
      "Epoch: 1 Loss: 0.9304 Acc: 0.4968 : 100%|██████████| 1000/1000 [01:52<00:00,  9.04it/s]\n",
      "Test : 1 Loss: 0.7878 Acc: 0.5723 : 100%|██████████| 100/100 [00:05<00:00, 17.63it/s]\n",
      "Epoch: 2 Loss: 0.0739 Acc: 0.9215 : 100%|██████████| 1000/1000 [01:52<00:00,  8.63it/s]\n",
      "Test : 2 Loss: 0.0732 Acc: 0.9075 : 100%|██████████| 100/100 [00:05<00:00, 17.65it/s]\n",
      "Epoch: 3 Loss: 0.0421 Acc: 0.9419 : 100%|██████████| 1000/1000 [01:52<00:00,  9.03it/s]\n",
      "Test : 3 Loss: 0.0443 Acc: 0.9438 : 100%|██████████| 100/100 [00:05<00:00, 17.56it/s]\n",
      "Epoch: 4 Loss: 0.0387 Acc: 0.9496 : 100%|██████████| 1000/1000 [01:52<00:00,  8.92it/s]\n",
      "Test : 4 Loss: 0.0460 Acc: 0.9279 : 100%|██████████| 100/100 [00:05<00:00, 17.53it/s]\n",
      "Epoch: 5 Loss: 0.0350 Acc: 0.9519 : 100%|██████████| 1000/1000 [01:52<00:00,  8.92it/s]\n",
      "Test : 5 Loss: 0.0352 Acc: 0.9482 : 100%|██████████| 100/100 [00:05<00:00, 26.34it/s]\n",
      "Epoch: 6 Loss: 0.0255 Acc: 0.9645 : 100%|██████████| 1000/1000 [01:52<00:00,  9.06it/s]\n",
      "Test : 6 Loss: 0.0304 Acc: 0.9557 : 100%|██████████| 100/100 [00:05<00:00, 17.78it/s]\n",
      "Epoch: 7 Loss: 0.0256 Acc: 0.9649 : 100%|██████████| 1000/1000 [01:52<00:00,  8.81it/s]\n",
      "Test : 7 Loss: 0.0239 Acc: 0.9682 : 100%|██████████| 100/100 [00:05<00:00, 17.41it/s]\n",
      "Epoch: 8 Loss: 0.0245 Acc: 0.9622 : 100%|██████████| 1000/1000 [01:52<00:00,  8.88it/s]\n",
      "Test : 8 Loss: 0.0242 Acc: 0.9655 : 100%|██████████| 100/100 [00:05<00:00, 17.68it/s]\n",
      "Epoch: 9 Loss: 0.0245 Acc: 0.9638 : 100%|██████████| 1000/1000 [01:52<00:00,  9.17it/s]\n",
      "Test : 9 Loss: 0.0215 Acc: 0.9705 : 100%|██████████| 100/100 [00:05<00:00, 17.78it/s]\n",
      "Epoch: 10 Loss: 0.0196 Acc: 0.9703 : 100%|██████████| 1000/1000 [01:52<00:00,  8.92it/s]\n",
      "Test : 10 Loss: 0.0193 Acc: 0.9718 : 100%|██████████| 100/100 [00:05<00:00, 17.65it/s]\n",
      "Epoch: 11 Loss: 0.0187 Acc: 0.9743 : 100%|██████████| 1000/1000 [01:52<00:00,  8.85it/s]\n",
      "Test : 11 Loss: 0.0187 Acc: 0.9748 : 100%|██████████| 100/100 [00:05<00:00, 17.68it/s]\n",
      "Epoch: 12 Loss: 0.0141 Acc: 0.9791 : 100%|██████████| 1000/1000 [01:52<00:00,  8.96it/s]\n",
      "Test : 12 Loss: 0.0257 Acc: 0.9619 : 100%|██████████| 100/100 [00:05<00:00, 26.40it/s]\n",
      "Epoch: 13 Loss: 0.0169 Acc: 0.9809 : 100%|██████████| 1000/1000 [01:52<00:00,  8.87it/s]\n",
      "Test : 13 Loss: 0.0254 Acc: 0.9623 : 100%|██████████| 100/100 [00:05<00:00, 17.65it/s]\n",
      "Epoch: 14 Loss: 0.0151 Acc: 0.9792 : 100%|██████████| 1000/1000 [01:52<00:00,  8.91it/s]\n",
      "Test : 14 Loss: 0.0155 Acc: 0.9762 : 100%|██████████| 100/100 [00:05<00:00, 17.97it/s]\n",
      "Epoch: 15 Loss: 0.0146 Acc: 0.9814 : 100%|██████████| 1000/1000 [01:52<00:00,  8.83it/s]\n",
      "Test : 15 Loss: 0.0149 Acc: 0.9792 : 100%|██████████| 100/100 [00:05<00:00, 17.61it/s]\n",
      "Epoch: 16 Loss: 0.0124 Acc: 0.9824 : 100%|██████████| 1000/1000 [01:52<00:00,  8.97it/s]\n",
      "Test : 16 Loss: 0.0117 Acc: 0.9827 : 100%|██████████| 100/100 [00:05<00:00, 26.37it/s]\n",
      "Epoch: 17 Loss: 0.0117 Acc: 0.9805 : 100%|██████████| 1000/1000 [01:52<00:00,  8.90it/s]\n",
      "Test : 17 Loss: 0.6013 Acc: 0.5914 : 100%|██████████| 100/100 [00:05<00:00, 17.74it/s]\n",
      "Epoch: 18 Loss: 0.0089 Acc: 0.9864 : 100%|██████████| 1000/1000 [01:52<00:00,  8.91it/s]\n",
      "Test : 18 Loss: 0.0258 Acc: 0.9650 : 100%|██████████| 100/100 [00:05<00:00, 24.99it/s]\n",
      "Epoch: 19 Loss: 0.0130 Acc: 0.9847 : 100%|██████████| 1000/1000 [01:52<00:00,  8.97it/s]\n",
      "Test : 19 Loss: 0.0133 Acc: 0.9805 : 100%|██████████| 100/100 [00:05<00:00, 17.74it/s]\n",
      "Epoch: 20 Loss: 0.0132 Acc: 0.9827 : 100%|██████████| 1000/1000 [01:52<00:00,  8.94it/s]\n",
      "Test : 20 Loss: 0.0126 Acc: 0.9808 : 100%|██████████| 100/100 [00:05<00:00, 25.64it/s]\n",
      "Epoch: 21 Loss: 0.0088 Acc: 0.9843 : 100%|██████████| 1000/1000 [01:52<00:00,  9.01it/s]\n",
      "Test : 21 Loss: 0.0096 Acc: 0.9871 : 100%|██████████| 100/100 [00:05<00:00, 18.04it/s]\n",
      "Epoch: 22 Loss: 0.0113 Acc: 0.9845 : 100%|██████████| 1000/1000 [01:52<00:00,  8.88it/s]\n",
      "Test : 22 Loss: 0.0127 Acc: 0.9827 : 100%|██████████| 100/100 [00:05<00:00, 17.99it/s]\n",
      "Epoch: 23 Loss: 0.0100 Acc: 0.9848 : 100%|██████████| 1000/1000 [01:52<00:00,  8.95it/s]\n",
      "Test : 23 Loss: 0.0088 Acc: 0.9874 : 100%|██████████| 100/100 [00:05<00:00, 25.36it/s]\n",
      "Epoch: 24 Loss: 0.0135 Acc: 0.9792 : 100%|██████████| 1000/1000 [01:52<00:00,  8.87it/s]\n",
      "Test : 24 Loss: 0.0132 Acc: 0.9790 : 100%|██████████| 100/100 [00:05<00:00, 25.79it/s]\n",
      "Epoch: 25 Loss: 0.0090 Acc: 0.9854 : 100%|██████████| 1000/1000 [01:52<00:00,  9.04it/s]\n",
      "Test : 25 Loss: 0.0092 Acc: 0.9860 : 100%|██████████| 100/100 [00:05<00:00, 26.67it/s]\n",
      "Epoch: 26 Loss: 0.0079 Acc: 0.9897 : 100%|██████████| 1000/1000 [01:52<00:00,  8.86it/s]\n",
      "Test : 26 Loss: 0.0093 Acc: 0.9884 : 100%|██████████| 100/100 [00:05<00:00, 17.79it/s]\n",
      "Epoch: 27 Loss: 0.0088 Acc: 0.9889 : 100%|██████████| 1000/1000 [01:52<00:00,  8.98it/s]\n",
      "Test : 27 Loss: 0.0068 Acc: 0.9909 : 100%|██████████| 100/100 [00:05<00:00, 17.56it/s]\n",
      "Epoch: 28 Loss: 0.0073 Acc: 0.9909 : 100%|██████████| 1000/1000 [01:52<00:00,  8.87it/s]\n",
      "Test : 28 Loss: 0.0064 Acc: 0.9903 : 100%|██████████| 100/100 [00:05<00:00, 17.71it/s]\n",
      "Epoch: 29 Loss: 0.0057 Acc: 0.9925 : 100%|██████████| 1000/1000 [01:52<00:00,  9.06it/s]\n",
      "Test : 29 Loss: 0.0064 Acc: 0.9901 : 100%|██████████| 100/100 [00:05<00:00, 26.16it/s]\n",
      "Epoch: 30 Loss: 0.0064 Acc: 0.9921 : 100%|██████████| 1000/1000 [01:52<00:00,  8.94it/s]\n",
      "Test : 30 Loss: 0.0058 Acc: 0.9917 : 100%|██████████| 100/100 [00:05<00:00, 17.82it/s]\n"
     ]
    }
   ],
   "source": [
    "optimizer = torch.optim.Adam(model.parameters(), 1e-4)\n",
    "epochs = 30\n",
    "for epoch in range(1, epochs + 1):\n",
    "    train_loss, train_acc = train(model, optimizer, epoch, train_loader, writer)\n",
    "    valid_loss, valid_acc = valid(model, epoch, valid_loader, writer)\n",
    "    \n",
    "    writer.add_scalars('epoch/loss', {'train': train_loss, 'valid': valid_loss}, epoch)\n",
    "    writer.add_scalars('epoch/acc', {'train': train_acc, 'valid': valid_acc}, epoch)\n",
    "    writer.add_scalars('epoch/error_rate', {'train': 1 - train_acc, 'valid': 1 - valid_acc}, epoch)"
   ]
  },
  {
   "cell_type": "code",
   "execution_count": 12,
   "metadata": {
    "ExecuteTime": {
     "end_time": "2019-06-30T13:20:02.284933Z",
     "start_time": "2019-06-30T13:00:15.342559Z"
    }
   },
   "outputs": [
    {
     "name": "stderr",
     "output_type": "stream",
     "text": [
      "Epoch: 30 Loss: 0.0051 Acc: 0.9924 : 100%|██████████| 1000/1000 [01:52<00:00,  8.92it/s]\n",
      "Test : 30 Loss: 0.0056 Acc: 0.9920 : 100%|██████████| 100/100 [00:05<00:00, 26.17it/s]\n",
      "Epoch: 31 Loss: 0.0036 Acc: 0.9941 : 100%|██████████| 1000/1000 [01:52<00:00,  9.16it/s]\n",
      "Test : 31 Loss: 0.0034 Acc: 0.9952 : 100%|██████████| 100/100 [00:05<00:00, 17.87it/s]\n",
      "Epoch: 32 Loss: 0.0036 Acc: 0.9947 : 100%|██████████| 1000/1000 [01:52<00:00,  9.01it/s]\n",
      "Test : 32 Loss: 0.0034 Acc: 0.9943 : 100%|██████████| 100/100 [00:05<00:00, 17.63it/s]\n",
      "Epoch: 33 Loss: 0.0039 Acc: 0.9938 : 100%|██████████| 1000/1000 [01:52<00:00,  8.85it/s]\n",
      "Test : 33 Loss: 0.0045 Acc: 0.9930 : 100%|██████████| 100/100 [00:05<00:00, 25.45it/s]\n",
      "Epoch: 34 Loss: 0.0025 Acc: 0.9957 : 100%|██████████| 1000/1000 [01:52<00:00,  8.86it/s]\n",
      "Test : 34 Loss: 0.0034 Acc: 0.9949 : 100%|██████████| 100/100 [00:05<00:00, 17.71it/s]\n",
      "Epoch: 35 Loss: 0.0024 Acc: 0.9976 : 100%|██████████| 1000/1000 [01:52<00:00,  8.93it/s]\n",
      "Test : 35 Loss: 0.0030 Acc: 0.9956 : 100%|██████████| 100/100 [00:05<00:00, 26.16it/s]\n",
      "Epoch: 36 Loss: 0.0038 Acc: 0.9946 : 100%|██████████| 1000/1000 [01:52<00:00,  9.01it/s]\n",
      "Test : 36 Loss: 0.0031 Acc: 0.9953 : 100%|██████████| 100/100 [00:05<00:00, 17.87it/s]\n",
      "Epoch: 37 Loss: 0.0023 Acc: 0.9970 : 100%|██████████| 1000/1000 [01:52<00:00,  8.93it/s]\n",
      "Test : 37 Loss: 0.0037 Acc: 0.9957 : 100%|██████████| 100/100 [00:05<00:00, 17.51it/s]\n",
      "Epoch: 38 Loss: 0.0025 Acc: 0.9962 : 100%|██████████| 1000/1000 [01:52<00:00,  8.81it/s]\n",
      "Test : 38 Loss: 0.0032 Acc: 0.9954 : 100%|██████████| 100/100 [00:05<00:00, 17.49it/s]\n",
      "Epoch: 39 Loss: 0.0034 Acc: 0.9960 : 100%|██████████| 1000/1000 [01:52<00:00,  8.94it/s]\n",
      "Test : 39 Loss: 0.0030 Acc: 0.9957 : 100%|██████████| 100/100 [00:05<00:00, 17.56it/s]\n"
     ]
    }
   ],
   "source": [
    "optimizer = torch.optim.Adam(model.parameters(), 1e-5)\n",
    "epochs2 = 10\n",
    "for epoch in range(epochs, epochs + epochs2):\n",
    "    train_loss, train_acc = train(model, optimizer, epoch, train_loader, writer)\n",
    "    valid_loss, valid_acc = valid(model, epoch, valid_loader, writer)\n",
    "    \n",
    "    writer.add_scalars('epoch/loss', {'train': train_loss, 'valid': valid_loss}, epoch)\n",
    "    writer.add_scalars('epoch/acc', {'train': train_acc, 'valid': valid_acc}, epoch)\n",
    "    writer.add_scalars('epoch/error_rate', {'train': 1 - train_acc, 'valid': 1 - valid_acc}, epoch)"
   ]
  },
  {
   "cell_type": "markdown",
   "metadata": {},
   "source": [
    "# 测试模型输出"
   ]
  },
  {
   "cell_type": "code",
   "execution_count": 18,
   "metadata": {
    "ExecuteTime": {
     "end_time": "2019-06-30T13:53:33.479222Z",
     "start_time": "2019-06-30T13:53:33.432493Z"
    },
    "scrolled": true
   },
   "outputs": [
    {
     "name": "stdout",
     "output_type": "stream",
     "text": [
      "true: 0IB0 pred: OIB0\n",
      "O--I-B--0---\n"
     ]
    },
    {
     "data": {
      "image/png": "[encoded data removed]",
      "text/plain": [
       "<PIL.Image.Image image mode=RGB size=192x64 at 0x7FB8987C2A20>"
      ]
     },
     "execution_count": 18,
     "metadata": {},
     "output_type": "execute_result"
    }
   ],
   "source": [
    "model.eval()\n",
    "do = True\n",
    "while do or decode_target(target) == decode(output_argmax[0]):\n",
    "    do = False\n",
    "    image, target, input_length, label_length = dataset[0]\n",
    "\n",
    "    output = model(image.unsqueeze(0).cuda())\n",
    "    output_argmax = output.detach().permute(1, 0, 2).argmax(dim=-1)\n",
    "#     print(f'true: {decode_target(target)} pred: {decode(output_argmax[0])}')\n",
    "\n",
    "print(f'true: {decode_target(target)} pred: {decode(output_argmax[0])}')\n",
    "print(''.join([characters[x] for x in output_argmax[0]]))\n",
    "to_pil_image(image)"
   ]
  },
  {
   "cell_type": "code",
   "execution_count": 19,
   "metadata": {
    "ExecuteTime": {
     "end_time": "2019-06-30T13:53:34.099024Z",
     "start_time": "2019-06-30T13:53:34.064228Z"
    }
   },
   "outputs": [
    {
     "name": "stderr",
     "output_type": "stream",
     "text": [
      "/home/ypw/anaconda3/lib/python3.6/site-packages/torch/serialization.py:256: UserWarning: Couldn't retrieve source code for container of type Model. It won't be checked for correctness upon loading.\n",
      "  \"type \" + obj.__name__ + \". It won't be checked \"\n"
     ]
    }
   ],
   "source": [
    "torch.save(model, 'ctc.pth')"
   ]
  },
  {
   "cell_type": "code",
   "execution_count": null,
   "metadata": {},
   "outputs": [],
   "source": []
  }
 ],
 "metadata": {
  "kernelspec": {
   "display_name": "Python 3",
   "language": "python",
   "name": "python3"
  },
  "language_info": {
   "codemirror_mode": {
    "name": "ipython",
    "version": 3
   },
   "file_extension": ".py",
   "mimetype": "text/x-python",
   "name": "python",
   "nbconvert_exporter": "python",
   "pygments_lexer": "ipython3",
   "version": "3.6.5"
  }
 },
 "nbformat": 4,
 "nbformat_minor": 2
}
